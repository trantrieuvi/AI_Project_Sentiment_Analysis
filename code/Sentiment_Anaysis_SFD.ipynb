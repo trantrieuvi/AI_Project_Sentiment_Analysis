{
  "nbformat": 4,
  "nbformat_minor": 0,
  "metadata": {
    "colab": {
      "name": "Sentiment_Anaysis_SFD.ipynb",
      "provenance": [],
      "collapsed_sections": []
    },
    "kernelspec": {
      "name": "python3",
      "display_name": "Python 3"
    },
    "language_info": {
      "name": "python"
    }
  },
  "cells": [
    {
      "cell_type": "code",
      "source": [
        "!pip install pyvi --quiet"
      ],
      "metadata": {
        "id": "eZko279bd9iA"
      },
      "execution_count": 12,
      "outputs": []
    },
    {
      "cell_type": "code",
      "execution_count": 13,
      "metadata": {
        "id": "SGo5a4sjRWPJ"
      },
      "outputs": [],
      "source": [
        "# Load libray\n",
        "import pandas as pd \n",
        "import numpy as np\n",
        "import matplotlib.pyplot as plt\n",
        "import seaborn as sns\n",
        "from gensim.models import Word2Vec\n",
        "import gensim.models.keyedvectors as word2vec\n",
        "import gensim\n",
        "from pyvi import ViTokenizer\n",
        "from tqdm import tqdm\n",
        "from tensorflow.keras import layers\n",
        "from tensorflow import keras \n",
        "import tensorflow as tf"
      ]
    },
    {
      "cell_type": "code",
      "source": [
        "# Load dataset\n",
        "test_data = pd.read_csv('https://raw.githubusercontent.com/trantrieuvi/AI_Project_Sentiment_Analysis/main/data/Sentiment_TestData.csv')\n",
        "train_data = pd.read_csv('https://raw.githubusercontent.com/trantrieuvi/AI_Project_Sentiment_Analysis/main/data/Sentiment_TrainData.csv')"
      ],
      "metadata": {
        "id": "QAcSO7VySeok"
      },
      "execution_count": 14,
      "outputs": []
    },
    {
      "cell_type": "code",
      "source": [
        "train_data[train_data['label']==1].count"
      ],
      "metadata": {
        "colab": {
          "base_uri": "https://localhost:8080/"
        },
        "id": "caobEXEzXR5e",
        "outputId": "f02ce52e-77a4-440f-b3fe-849fbde7c687"
      },
      "execution_count": 15,
      "outputs": [
        {
          "output_type": "execute_result",
          "data": {
            "text/plain": [
              "<bound method DataFrame.count of Empty DataFrame\n",
              "Columns: [Unnamed: 0, index, comment, n_star, date_time, label]\n",
              "Index: []>"
            ]
          },
          "metadata": {},
          "execution_count": 15
        }
      ]
    },
    {
      "cell_type": "code",
      "source": [
        "# Data labeling function\n",
        "def create_label(main_data):\n",
        "  conditions = [\n",
        "    (main_data['n_star'] <= 3),\n",
        "    (main_data['n_star'] >=4),\n",
        "    ]\n",
        "  values = [0, 1]\n",
        "  main_data['label'] = np.select(conditions, values)\n",
        "  main_data =  main_data[['index','comment','label']]\n",
        "  return main_data"
      ],
      "metadata": {
        "id": "YPncTnrXA_A9"
      },
      "execution_count": 16,
      "outputs": []
    },
    {
      "cell_type": "code",
      "source": [
        "# Labeling data\n",
        "train_data =  create_label(train_data)\n",
        "train_data"
      ],
      "metadata": {
        "colab": {
          "base_uri": "https://localhost:8080/",
          "height": 424
        },
        "id": "E7w49MKNK_Bs",
        "outputId": "2aca9f25-f1e2-424c-891d-93a86e3dfb0d"
      },
      "execution_count": 17,
      "outputs": [
        {
          "output_type": "execute_result",
          "data": {
            "text/plain": [
              "       index                                            comment  label\n",
              "0          0  Mới mua máy này Tại thegioididong thốt nốt cảm...      1\n",
              "1          1  Pin kém còn lại miễn chê mua 8/3/2019 tình trạ...      1\n",
              "2          2  Sao lúc gọi điện thoại màn hình bị chấm nhỏ nh...      0\n",
              "3          3  Mọi người cập nhật phần mềm lại , nó sẽ bớt tố...      0\n",
              "4          4  Mới mua Sài được 1 tháng thấy pin rất trâu, Sà...      1\n",
              "...      ...                                                ...    ...\n",
              "10005  10005  Mẫu mã đẹp lung linh. Máy chạy cực nhanh, mượt...      1\n",
              "10006  10006  Có ai bị giống mình không máy thì sài bình thư...      1\n",
              "10007  10007  Sản phẩm tốt 😊\\nAi chơi game cứ mang 1 em về m...      1\n",
              "10008  10008  Vừa mới mua xong máy rất đẹp nhân viên rất nhi...      1\n",
              "10009  10009  Mình mua dt cũ nhưng xài rất tốt pin xuống lâu...      1\n",
              "\n",
              "[10010 rows x 3 columns]"
            ],
            "text/html": [
              "\n",
              "  <div id=\"df-6c4ce740-4391-4331-a20b-490dde1fbe72\">\n",
              "    <div class=\"colab-df-container\">\n",
              "      <div>\n",
              "<style scoped>\n",
              "    .dataframe tbody tr th:only-of-type {\n",
              "        vertical-align: middle;\n",
              "    }\n",
              "\n",
              "    .dataframe tbody tr th {\n",
              "        vertical-align: top;\n",
              "    }\n",
              "\n",
              "    .dataframe thead th {\n",
              "        text-align: right;\n",
              "    }\n",
              "</style>\n",
              "<table border=\"1\" class=\"dataframe\">\n",
              "  <thead>\n",
              "    <tr style=\"text-align: right;\">\n",
              "      <th></th>\n",
              "      <th>index</th>\n",
              "      <th>comment</th>\n",
              "      <th>label</th>\n",
              "    </tr>\n",
              "  </thead>\n",
              "  <tbody>\n",
              "    <tr>\n",
              "      <th>0</th>\n",
              "      <td>0</td>\n",
              "      <td>Mới mua máy này Tại thegioididong thốt nốt cảm...</td>\n",
              "      <td>1</td>\n",
              "    </tr>\n",
              "    <tr>\n",
              "      <th>1</th>\n",
              "      <td>1</td>\n",
              "      <td>Pin kém còn lại miễn chê mua 8/3/2019 tình trạ...</td>\n",
              "      <td>1</td>\n",
              "    </tr>\n",
              "    <tr>\n",
              "      <th>2</th>\n",
              "      <td>2</td>\n",
              "      <td>Sao lúc gọi điện thoại màn hình bị chấm nhỏ nh...</td>\n",
              "      <td>0</td>\n",
              "    </tr>\n",
              "    <tr>\n",
              "      <th>3</th>\n",
              "      <td>3</td>\n",
              "      <td>Mọi người cập nhật phần mềm lại , nó sẽ bớt tố...</td>\n",
              "      <td>0</td>\n",
              "    </tr>\n",
              "    <tr>\n",
              "      <th>4</th>\n",
              "      <td>4</td>\n",
              "      <td>Mới mua Sài được 1 tháng thấy pin rất trâu, Sà...</td>\n",
              "      <td>1</td>\n",
              "    </tr>\n",
              "    <tr>\n",
              "      <th>...</th>\n",
              "      <td>...</td>\n",
              "      <td>...</td>\n",
              "      <td>...</td>\n",
              "    </tr>\n",
              "    <tr>\n",
              "      <th>10005</th>\n",
              "      <td>10005</td>\n",
              "      <td>Mẫu mã đẹp lung linh. Máy chạy cực nhanh, mượt...</td>\n",
              "      <td>1</td>\n",
              "    </tr>\n",
              "    <tr>\n",
              "      <th>10006</th>\n",
              "      <td>10006</td>\n",
              "      <td>Có ai bị giống mình không máy thì sài bình thư...</td>\n",
              "      <td>1</td>\n",
              "    </tr>\n",
              "    <tr>\n",
              "      <th>10007</th>\n",
              "      <td>10007</td>\n",
              "      <td>Sản phẩm tốt 😊\\nAi chơi game cứ mang 1 em về m...</td>\n",
              "      <td>1</td>\n",
              "    </tr>\n",
              "    <tr>\n",
              "      <th>10008</th>\n",
              "      <td>10008</td>\n",
              "      <td>Vừa mới mua xong máy rất đẹp nhân viên rất nhi...</td>\n",
              "      <td>1</td>\n",
              "    </tr>\n",
              "    <tr>\n",
              "      <th>10009</th>\n",
              "      <td>10009</td>\n",
              "      <td>Mình mua dt cũ nhưng xài rất tốt pin xuống lâu...</td>\n",
              "      <td>1</td>\n",
              "    </tr>\n",
              "  </tbody>\n",
              "</table>\n",
              "<p>10010 rows × 3 columns</p>\n",
              "</div>\n",
              "      <button class=\"colab-df-convert\" onclick=\"convertToInteractive('df-6c4ce740-4391-4331-a20b-490dde1fbe72')\"\n",
              "              title=\"Convert this dataframe to an interactive table.\"\n",
              "              style=\"display:none;\">\n",
              "        \n",
              "  <svg xmlns=\"http://www.w3.org/2000/svg\" height=\"24px\"viewBox=\"0 0 24 24\"\n",
              "       width=\"24px\">\n",
              "    <path d=\"M0 0h24v24H0V0z\" fill=\"none\"/>\n",
              "    <path d=\"M18.56 5.44l.94 2.06.94-2.06 2.06-.94-2.06-.94-.94-2.06-.94 2.06-2.06.94zm-11 1L8.5 8.5l.94-2.06 2.06-.94-2.06-.94L8.5 2.5l-.94 2.06-2.06.94zm10 10l.94 2.06.94-2.06 2.06-.94-2.06-.94-.94-2.06-.94 2.06-2.06.94z\"/><path d=\"M17.41 7.96l-1.37-1.37c-.4-.4-.92-.59-1.43-.59-.52 0-1.04.2-1.43.59L10.3 9.45l-7.72 7.72c-.78.78-.78 2.05 0 2.83L4 21.41c.39.39.9.59 1.41.59.51 0 1.02-.2 1.41-.59l7.78-7.78 2.81-2.81c.8-.78.8-2.07 0-2.86zM5.41 20L4 18.59l7.72-7.72 1.47 1.35L5.41 20z\"/>\n",
              "  </svg>\n",
              "      </button>\n",
              "      \n",
              "  <style>\n",
              "    .colab-df-container {\n",
              "      display:flex;\n",
              "      flex-wrap:wrap;\n",
              "      gap: 12px;\n",
              "    }\n",
              "\n",
              "    .colab-df-convert {\n",
              "      background-color: #E8F0FE;\n",
              "      border: none;\n",
              "      border-radius: 50%;\n",
              "      cursor: pointer;\n",
              "      display: none;\n",
              "      fill: #1967D2;\n",
              "      height: 32px;\n",
              "      padding: 0 0 0 0;\n",
              "      width: 32px;\n",
              "    }\n",
              "\n",
              "    .colab-df-convert:hover {\n",
              "      background-color: #E2EBFA;\n",
              "      box-shadow: 0px 1px 2px rgba(60, 64, 67, 0.3), 0px 1px 3px 1px rgba(60, 64, 67, 0.15);\n",
              "      fill: #174EA6;\n",
              "    }\n",
              "\n",
              "    [theme=dark] .colab-df-convert {\n",
              "      background-color: #3B4455;\n",
              "      fill: #D2E3FC;\n",
              "    }\n",
              "\n",
              "    [theme=dark] .colab-df-convert:hover {\n",
              "      background-color: #434B5C;\n",
              "      box-shadow: 0px 1px 3px 1px rgba(0, 0, 0, 0.15);\n",
              "      filter: drop-shadow(0px 1px 2px rgba(0, 0, 0, 0.3));\n",
              "      fill: #FFFFFF;\n",
              "    }\n",
              "  </style>\n",
              "\n",
              "      <script>\n",
              "        const buttonEl =\n",
              "          document.querySelector('#df-6c4ce740-4391-4331-a20b-490dde1fbe72 button.colab-df-convert');\n",
              "        buttonEl.style.display =\n",
              "          google.colab.kernel.accessAllowed ? 'block' : 'none';\n",
              "\n",
              "        async function convertToInteractive(key) {\n",
              "          const element = document.querySelector('#df-6c4ce740-4391-4331-a20b-490dde1fbe72');\n",
              "          const dataTable =\n",
              "            await google.colab.kernel.invokeFunction('convertToInteractive',\n",
              "                                                     [key], {});\n",
              "          if (!dataTable) return;\n",
              "\n",
              "          const docLinkHtml = 'Like what you see? Visit the ' +\n",
              "            '<a target=\"_blank\" href=https://colab.research.google.com/notebooks/data_table.ipynb>data table notebook</a>'\n",
              "            + ' to learn more about interactive tables.';\n",
              "          element.innerHTML = '';\n",
              "          dataTable['output_type'] = 'display_data';\n",
              "          await google.colab.output.renderOutput(dataTable, element);\n",
              "          const docLink = document.createElement('div');\n",
              "          docLink.innerHTML = docLinkHtml;\n",
              "          element.appendChild(docLink);\n",
              "        }\n",
              "      </script>\n",
              "    </div>\n",
              "  </div>\n",
              "  "
            ]
          },
          "metadata": {},
          "execution_count": 17
        }
      ]
    },
    {
      "cell_type": "markdown",
      "source": [
        "# **Description of data**"
      ],
      "metadata": {
        "id": "OdPeXkdzHloz"
      }
    },
    {
      "cell_type": "code",
      "source": [
        "# Show histogram of number of letters of each comment\n",
        "train_data['comment'].str.len().hist()\n",
        "plt.title(\"Number of letters of each comment\")\n",
        "plt.show()"
      ],
      "metadata": {
        "colab": {
          "base_uri": "https://localhost:8080/",
          "height": 281
        },
        "id": "hREK2WaMHnpL",
        "outputId": "c13c44dc-2bc9-4627-e110-1dae78fc88d9"
      },
      "execution_count": 18,
      "outputs": [
        {
          "output_type": "display_data",
          "data": {
            "text/plain": [
              "<Figure size 432x288 with 1 Axes>"
            ],
            "image/png": "[encoded data removed]"
          },
          "metadata": {
            "needs_background": "light"
          }
        }
      ]
    },
    {
      "cell_type": "code",
      "source": [
        "# Show histogram of number of words of each comment\n",
        "train_data['comment'].str.split().map(lambda x: len(x)).hist()\n",
        "plt.title(\"Number of words of each comment\")\n",
        "plt.show()"
      ],
      "metadata": {
        "colab": {
          "base_uri": "https://localhost:8080/",
          "height": 281
        },
        "id": "bSwzWo6PIOuF",
        "outputId": "3a268b15-d52e-42b4-bb5d-faea90207971"
      },
      "execution_count": 19,
      "outputs": [
        {
          "output_type": "display_data",
          "data": {
            "text/plain": [
              "<Figure size 432x288 with 1 Axes>"
            ],
            "image/png": "[encoded data removed]"
          },
          "metadata": {
            "needs_background": "light"
          }
        }
      ]
    },
    {
      "cell_type": "code",
      "source": [
        "# Show histogram of number of letters of each word\n",
        "train_data['comment'].str.split().\\\n",
        "   apply(lambda x : [len(i) for i in x]). \\\n",
        "   map(lambda x: np.mean(x)).hist()\n",
        "plt.title(\"Number of letters of each word\")\n",
        "plt.show()"
      ],
      "metadata": {
        "colab": {
          "base_uri": "https://localhost:8080/",
          "height": 281
        },
        "id": "TgIxmVy9IeO4",
        "outputId": "abf69fb6-2bf2-4c9d-db45-861e01cedcb1"
      },
      "execution_count": 20,
      "outputs": [
        {
          "output_type": "display_data",
          "data": {
            "text/plain": [
              "<Figure size 432x288 with 1 Axes>"
            ],
            "image/png": "[encoded data removed]"
          },
          "metadata": {
            "needs_background": "light"
          }
        }
      ]
    },
    {
      "cell_type": "code",
      "source": [
        "# Show number of each sentiment comment\n",
        "pos = train_data[train_data['label']==1].count()\n",
        "neg = train_data[train_data['label']==0].count()\n",
        "print('Number of Positive comment: ', pos)\n",
        "print('Number of Negative comment: ',neg)"
      ],
      "metadata": {
        "colab": {
          "base_uri": "https://localhost:8080/"
        },
        "id": "ljCjSrCNL5Zl",
        "outputId": "a2d130e8-893d-4e25-cc05-f9b0708b80c9"
      },
      "execution_count": 21,
      "outputs": [
        {
          "output_type": "stream",
          "name": "stdout",
          "text": [
            "Number of Positive comment:  index      6333\n",
            "comment    6333\n",
            "label      6333\n",
            "dtype: int64\n",
            "Number of Negative comment:  index      3677\n",
            "comment    3677\n",
            "label      3677\n",
            "dtype: int64\n"
          ]
        }
      ]
    },
    {
      "cell_type": "markdown",
      "source": [
        "# **Preporcessing data**"
      ],
      "metadata": {
        "id": "4pM1mw009_ua"
      }
    },
    {
      "cell_type": "code",
      "source": [
        "# Load file containing acronyms for the word: 'khong'\n",
        "file = open('not.txt', 'r', encoding=\"utf8\")\n",
        "not_lst = file.read().split('\\n')\n",
        "file.close()"
      ],
      "metadata": {
        "id": "EnrbJa5VERob"
      },
      "execution_count": 22,
      "outputs": []
    },
    {
      "cell_type": "code",
      "source": [
        "# Standardize acronyms for the word: 'khong'\n",
        "def process_special_word(text):\n",
        "    for khong in not_lst:\n",
        "      new_text = ''\n",
        "      text_lst = text.split()\n",
        "      i= 0\n",
        "      if khong in text_lst:\n",
        "          while i <= len(text_lst) - 1:\n",
        "              word = text_lst[i]\n",
        "              if  word == khong:\n",
        "                  next_idx = i+1\n",
        "                  if next_idx <= len(text_lst) -1:\n",
        "                      word = word +'_'+ text_lst[next_idx]\n",
        "                  i= next_idx + 1\n",
        "              else:\n",
        "                  i = i+1\n",
        "              new_text = new_text + word + ' '\n",
        "      else:\n",
        "          new_text = text\n",
        "      text=new_text\n",
        "    return new_text.strip()"
      ],
      "metadata": {
        "id": "fdcRyjokFbP9"
      },
      "execution_count": 23,
      "outputs": []
    },
    {
      "cell_type": "code",
      "source": [
        "# Data preprocessing function\n",
        "def preprocess_data(data):\n",
        "  # Renove Na/Nul values\n",
        "  data = data.dropna(axis = 0,subset=['comment'])\n",
        "  return data"
      ],
      "metadata": {
        "id": "oLdDUA0vXV6a"
      },
      "execution_count": 24,
      "outputs": []
    },
    {
      "cell_type": "code",
      "source": [
        "# Comment preprocessor function in data\n",
        "def preprocessing_text(text):\n",
        "  # Remove special character\n",
        "  text = text.str.replace('[^\\w\\s]','')\n",
        "  # Remove digit\n",
        "  text = text.replace('\\d', '', regex=True)\n",
        "  # Standardize acronyms for the word: 'khong'\n",
        "  text = [process_special_word(i) for i in text]\n",
        "  return text"
      ],
      "metadata": {
        "id": "oGwHSRasg7tP"
      },
      "execution_count": 25,
      "outputs": []
    },
    {
      "cell_type": "code",
      "source": [
        "# preprocessing trai data, test data\n",
        "  # Train data\n",
        "train_data = preprocess_data(train_data)\n",
        "train_data['comment'] = preprocessing_text(train_data['comment'])\n",
        "  # Test data\n",
        "test_data = preprocess_data(test_data)\n",
        "test_data['comment'] = preprocessing_text(test_data['comment'])"
      ],
      "metadata": {
        "colab": {
          "base_uri": "https://localhost:8080/"
        },
        "id": "4puX5KxWXp5r",
        "outputId": "426a3896-4c5c-4965-e3d3-9f518be9b1f7"
      },
      "execution_count": 26,
      "outputs": [
        {
          "output_type": "stream",
          "name": "stderr",
          "text": [
            "/usr/local/lib/python3.7/dist-packages/ipykernel_launcher.py:4: FutureWarning: The default value of regex will change from True to False in a future version.\n",
            "  after removing the cwd from sys.path.\n"
          ]
        }
      ]
    },
    {
      "cell_type": "code",
      "source": [
        "# Create comments, labels\n",
        "comments, labels = train_data.comment, train_data.label"
      ],
      "metadata": {
        "id": "_VPrtGjBjwCo"
      },
      "execution_count": 27,
      "outputs": []
    },
    {
      "cell_type": "code",
      "source": [
        "# Data normalization and word separation\n",
        "input_gensim = []\n",
        "for comment in comments:\n",
        "    comment = gensim.utils.simple_preprocess(comment)\n",
        "    comment = ' '.join(comment)\n",
        "    comment = comment.lower()\n",
        "    comment = ViTokenizer.tokenize(comment)\n",
        "    input_gensim.append(comment.split())"
      ],
      "metadata": {
        "id": "X47EJoLrj8lD"
      },
      "execution_count": 28,
      "outputs": []
    },
    {
      "cell_type": "code",
      "source": [
        "# Define constant variables\n",
        "max_seq = 100 # Maximum word count for a comment\n",
        "embedding_size = 128 # Dimensions of embedding\n",
        "sequence_length = 100\n",
        "num_classes = 2\n",
        "filter_sizes = 3\n",
        "num_filters = 150\n",
        "epochs = 20\n",
        "batch_size = 30\n",
        "learning_rate = 0.001\n",
        "dropout_rate = 0.5"
      ],
      "metadata": {
        "id": "eB3zmG4VuLCW"
      },
      "execution_count": 29,
      "outputs": []
    },
    {
      "cell_type": "code",
      "source": [
        "# Build and save Word2vec model \n",
        "model = Word2Vec(input_gensim, size=embedding_size, window=5, min_count=0, workers=4, sg=1)\n",
        "model.wv.save(\"wordgensim.model\")"
      ],
      "metadata": {
        "id": "VaIvY-ZFkOTn"
      },
      "execution_count": 30,
      "outputs": []
    },
    {
      "cell_type": "code",
      "source": [
        "model.wv.most_similar(\"xấu\")"
      ],
      "metadata": {
        "colab": {
          "base_uri": "https://localhost:8080/"
        },
        "id": "zxH4SjNgjWve",
        "outputId": "89bdfec0-3778-4a0c-9286-130ba7a540ae"
      },
      "execution_count": 31,
      "outputs": [
        {
          "output_type": "execute_result",
          "data": {
            "text/plain": [
              "[('ảo', 0.9292659759521484),\n",
              " ('không_đẹp', 0.9251585006713867),\n",
              " ('nhạt', 0.9216580390930176),\n",
              " ('mờ', 0.9141855239868164),\n",
              " ('bệt', 0.9063290953636169),\n",
              " ('không_nét', 0.9054901599884033),\n",
              " ('zoom', 0.9002642631530762),\n",
              " ('k_đẹp', 0.9000853300094604),\n",
              " ('selfie', 0.8970164060592651),\n",
              " ('vỡ', 0.8947378396987915)]"
            ]
          },
          "metadata": {},
          "execution_count": 31
        }
      ]
    },
    {
      "cell_type": "code",
      "source": [
        "model_embedding = word2vec.KeyedVectors.load('wordgensim.model')\n",
        "word_labels = []\n",
        "for word in model_embedding.vocab.keys():\n",
        "    word_labels.append(word)"
      ],
      "metadata": {
        "id": "x7K-x43TlGle"
      },
      "execution_count": 32,
      "outputs": []
    },
    {
      "cell_type": "code",
      "source": [
        "# Embedding word into matrix function\n",
        "def comment_embedding(comment):\n",
        "    matrix = np.zeros((max_seq, embedding_size))\n",
        "    words = comment.split()\n",
        "    lencmt = len(words)\n",
        "    n_cau = 0\n",
        "    for i in range(max_seq):\n",
        "        indexword = i % lencmt\n",
        "        n_cau = i//lencmt\n",
        "        if (max_seq - n_cau*lencmt < lencmt):\n",
        "            break\n",
        "        if(words[indexword] in word_labels):\n",
        "            matrix[i] = model_embedding[words[indexword]]\n",
        "    matrix = np.array(matrix)\n",
        "    return matrix"
      ],
      "metadata": {
        "id": "TpXFD1iSlUHP"
      },
      "execution_count": 33,
      "outputs": []
    },
    {
      "cell_type": "code",
      "source": [
        "feedback = 'Đã chuyển từ XS Mã qua, do ko phải là OLED nên cũng rất ít tốn pin.'\n",
        "print(comment_embedding(feedback))\n",
        "print('Kích thước của vector đánh giá:\\t',comment_embedding(feedback).shape)"
      ],
      "metadata": {
        "colab": {
          "base_uri": "https://localhost:8080/"
        },
        "id": "2O17bcJ963OM",
        "outputId": "a6ef2758-2a8b-4cbf-a862-fa86c580c660"
      },
      "execution_count": 34,
      "outputs": [
        {
          "output_type": "stream",
          "name": "stdout",
          "text": [
            "[[ 0.          0.          0.         ...  0.          0.\n",
            "   0.        ]\n",
            " [-0.02087034  0.16751839 -0.1094531  ... -0.18952724 -0.22287479\n",
            "  -0.42202166]\n",
            " [ 0.31799498 -0.04284659 -0.02188162 ... -0.13209233 -0.01170299\n",
            "  -0.18636236]\n",
            " ...\n",
            " [ 0.          0.          0.         ...  0.          0.\n",
            "   0.        ]\n",
            " [ 0.          0.          0.         ...  0.          0.\n",
            "   0.        ]\n",
            " [ 0.          0.          0.         ...  0.          0.\n",
            "   0.        ]]\n",
            "Kích thước của vector đánh giá:\t (100, 128)\n"
          ]
        }
      ]
    },
    {
      "cell_type": "code",
      "source": [
        "# Processing and embedding data\n",
        "train_data = []\n",
        "for x in tqdm(comments):\n",
        "    x = gensim.utils.simple_preprocess(x)\n",
        "    x = ' '.join(x)\n",
        "    x = ViTokenizer.tokenize(x)\n",
        "    train_data.append(comment_embedding(x))\n",
        "train_data = np.array(train_data)\n",
        "train_data.shape"
      ],
      "metadata": {
        "colab": {
          "base_uri": "https://localhost:8080/"
        },
        "id": "u-nLGSG0mO3u",
        "outputId": "e4f810d0-de0e-4ce3-d27e-9eab0e235c4d"
      },
      "execution_count": 35,
      "outputs": [
        {
          "output_type": "stream",
          "name": "stderr",
          "text": [
            "100%|██████████| 10010/10010 [00:33<00:00, 297.53it/s]\n"
          ]
        },
        {
          "output_type": "execute_result",
          "data": {
            "text/plain": [
              "(10010, 100, 128)"
            ]
          },
          "metadata": {},
          "execution_count": 35
        }
      ]
    },
    {
      "cell_type": "markdown",
      "source": [
        "# **Training Model**"
      ],
      "metadata": {
        "id": "f736LRLpGoEG"
      }
    },
    {
      "cell_type": "code",
      "source": [
        "# Processing data for training\n",
        "x_train = train_data.reshape(train_data.shape[0], sequence_length, embedding_size, 1).astype('float32')\n",
        "y_train = np.array(labels)"
      ],
      "metadata": {
        "id": "-eVwqPyMnq7P"
      },
      "execution_count": 36,
      "outputs": []
    },
    {
      "cell_type": "code",
      "source": [
        "# Building CNN model\n",
        "model = keras.Sequential()\n",
        "model.add(layers.Convolution2D(num_filters, (filter_sizes, embedding_size),\n",
        "                               padding='valid',\n",
        "                               input_shape=(sequence_length, embedding_size, 1), activation='relu'))\n",
        "model.add(layers.MaxPooling2D(pool_size=(68, 1)))\n",
        "model.add(layers.Dropout(dropout_rate))\n",
        "model.add(layers.Flatten())\n",
        "model.add(layers.Dense(128, activation='relu'))\n",
        "model.add(layers.Dense(1, activation='sigmoid'))\n",
        "\n",
        "model.compile(loss='binary_crossentropy',\n",
        "              optimizer='adam',\n",
        "              metrics=['accuracy'])\n",
        "print(model.summary())"
      ],
      "metadata": {
        "colab": {
          "base_uri": "https://localhost:8080/"
        },
        "id": "D1XPA8_cmp_X",
        "outputId": "4ef976f8-f7b5-40dc-cb4d-ca4a405722e6"
      },
      "execution_count": 37,
      "outputs": [
        {
          "output_type": "stream",
          "name": "stdout",
          "text": [
            "Model: \"sequential\"\n",
            "_________________________________________________________________\n",
            " Layer (type)                Output Shape              Param #   \n",
            "=================================================================\n",
            " conv2d (Conv2D)             (None, 98, 1, 150)        57750     \n",
            "                                                                 \n",
            " max_pooling2d (MaxPooling2D  (None, 1, 1, 150)        0         \n",
            " )                                                               \n",
            "                                                                 \n",
            " dropout (Dropout)           (None, 1, 1, 150)         0         \n",
            "                                                                 \n",
            " flatten (Flatten)           (None, 150)               0         \n",
            "                                                                 \n",
            " dense (Dense)               (None, 128)               19328     \n",
            "                                                                 \n",
            " dense_1 (Dense)             (None, 1)                 129       \n",
            "                                                                 \n",
            "=================================================================\n",
            "Total params: 77,207\n",
            "Trainable params: 77,207\n",
            "Non-trainable params: 0\n",
            "_________________________________________________________________\n",
            "None\n"
          ]
        }
      ]
    },
    {
      "cell_type": "code",
      "source": [
        "# Training model\n",
        "history = model.fit(x = x_train[:9000], y = y_train[:9000], batch_size = batch_size, verbose=1, epochs=epochs, validation_data=(x_train[9000:10010],y_train[9000:10010]))"
      ],
      "metadata": {
        "colab": {
          "base_uri": "https://localhost:8080/"
        },
        "id": "YLWDKxq7m4tH",
        "outputId": "cca9a1ae-304d-4f10-e6c3-8f42db1c8331"
      },
      "execution_count": 38,
      "outputs": [
        {
          "output_type": "stream",
          "name": "stdout",
          "text": [
            "Epoch 1/20\n",
            "300/300 [==============================] - 8s 24ms/step - loss: 0.4239 - accuracy: 0.8047 - val_loss: 0.3512 - val_accuracy: 0.8436\n",
            "Epoch 2/20\n",
            "300/300 [==============================] - 7s 24ms/step - loss: 0.3659 - accuracy: 0.8417 - val_loss: 0.3320 - val_accuracy: 0.8495\n",
            "Epoch 3/20\n",
            "300/300 [==============================] - 7s 24ms/step - loss: 0.3543 - accuracy: 0.8441 - val_loss: 0.3379 - val_accuracy: 0.8485\n",
            "Epoch 4/20\n",
            "300/300 [==============================] - 7s 24ms/step - loss: 0.3381 - accuracy: 0.8497 - val_loss: 0.3255 - val_accuracy: 0.8515\n",
            "Epoch 5/20\n",
            "300/300 [==============================] - 7s 23ms/step - loss: 0.3329 - accuracy: 0.8512 - val_loss: 0.3627 - val_accuracy: 0.8465\n",
            "Epoch 6/20\n",
            "300/300 [==============================] - 7s 23ms/step - loss: 0.3289 - accuracy: 0.8570 - val_loss: 0.3172 - val_accuracy: 0.8545\n",
            "Epoch 7/20\n",
            "300/300 [==============================] - 7s 23ms/step - loss: 0.3155 - accuracy: 0.8624 - val_loss: 0.3135 - val_accuracy: 0.8604\n",
            "Epoch 8/20\n",
            "300/300 [==============================] - 8s 26ms/step - loss: 0.3111 - accuracy: 0.8613 - val_loss: 0.3420 - val_accuracy: 0.8455\n",
            "Epoch 9/20\n",
            "300/300 [==============================] - 7s 24ms/step - loss: 0.3027 - accuracy: 0.8672 - val_loss: 0.3081 - val_accuracy: 0.8624\n",
            "Epoch 10/20\n",
            "300/300 [==============================] - 8s 25ms/step - loss: 0.3058 - accuracy: 0.8651 - val_loss: 0.3191 - val_accuracy: 0.8584\n",
            "Epoch 11/20\n",
            "300/300 [==============================] - 7s 23ms/step - loss: 0.2962 - accuracy: 0.8736 - val_loss: 0.3089 - val_accuracy: 0.8634\n",
            "Epoch 12/20\n",
            "300/300 [==============================] - 8s 27ms/step - loss: 0.2904 - accuracy: 0.8713 - val_loss: 0.3150 - val_accuracy: 0.8644\n",
            "Epoch 13/20\n",
            "300/300 [==============================] - 7s 23ms/step - loss: 0.2858 - accuracy: 0.8777 - val_loss: 0.3242 - val_accuracy: 0.8545\n",
            "Epoch 14/20\n",
            "300/300 [==============================] - 7s 23ms/step - loss: 0.2801 - accuracy: 0.8829 - val_loss: 0.3072 - val_accuracy: 0.8693\n",
            "Epoch 15/20\n",
            "300/300 [==============================] - 7s 23ms/step - loss: 0.2776 - accuracy: 0.8797 - val_loss: 0.3097 - val_accuracy: 0.8693\n",
            "Epoch 16/20\n",
            "300/300 [==============================] - 7s 23ms/step - loss: 0.2718 - accuracy: 0.8814 - val_loss: 0.3085 - val_accuracy: 0.8673\n",
            "Epoch 17/20\n",
            "300/300 [==============================] - 7s 24ms/step - loss: 0.2677 - accuracy: 0.8840 - val_loss: 0.3120 - val_accuracy: 0.8644\n",
            "Epoch 18/20\n",
            "300/300 [==============================] - 7s 24ms/step - loss: 0.2631 - accuracy: 0.8876 - val_loss: 0.3267 - val_accuracy: 0.8584\n",
            "Epoch 19/20\n",
            "300/300 [==============================] - 8s 26ms/step - loss: 0.2586 - accuracy: 0.8861 - val_loss: 0.3136 - val_accuracy: 0.8663\n",
            "Epoch 20/20\n",
            "300/300 [==============================] - 7s 23ms/step - loss: 0.2603 - accuracy: 0.8879 - val_loss: 0.3430 - val_accuracy: 0.8554\n"
          ]
        }
      ]
    },
    {
      "cell_type": "code",
      "source": [
        "plt.figure(figsize=(12,5))\n",
        "# summarize history for accuracy\n",
        "plt.plot(history.history['accuracy'])\n",
        "plt.plot(history.history['val_accuracy'])\n",
        "plt.title('model accuracy')\n",
        "plt.ylabel('accuracy')\n",
        "plt.xlabel('epoch')\n",
        "plt.legend(['train', 'val'], loc='upper left')\n",
        "plt.show()\n"
      ],
      "metadata": {
        "colab": {
          "base_uri": "https://localhost:8080/",
          "height": 350
        },
        "id": "P698BjMLTfni",
        "outputId": "9c66fd76-c1ea-437a-998b-795263573795"
      },
      "execution_count": 39,
      "outputs": [
        {
          "output_type": "display_data",
          "data": {
            "text/plain": [
              "<Figure size 864x360 with 1 Axes>"
            ],
            "image/png": "[encoded data removed]"
          },
          "metadata": {
            "needs_background": "light"
          }
        }
      ]
    },
    {
      "cell_type": "code",
      "source": [
        "# summarize history for loss\n",
        "plt.figure(figsize=(12,5))\n",
        "plt.plot(history.history['loss'])\n",
        "plt.plot(history.history['val_loss'])\n",
        "plt.title('model loss')\n",
        "plt.ylabel('loss')\n",
        "plt.xlabel('epoch')\n",
        "plt.legend(['train', 'val'], loc='upper left')\n",
        "plt.show()"
      ],
      "metadata": {
        "colab": {
          "base_uri": "https://localhost:8080/",
          "height": 350
        },
        "id": "hXbIxb8D4xaf",
        "outputId": "bb7af30b-8283-4d80-e139-95e2c64c882b"
      },
      "execution_count": 40,
      "outputs": [
        {
          "output_type": "display_data",
          "data": {
            "text/plain": [
              "<Figure size 864x360 with 1 Axes>"
            ],
            "image/png": "[encoded data removed]"
          },
          "metadata": {
            "needs_background": "light"
          }
        }
      ]
    },
    {
      "cell_type": "code",
      "source": [
        "# Save model\n",
        "model.save('model.h5')"
      ],
      "metadata": {
        "id": "XMfZUpuS9FLi"
      },
      "execution_count": 41,
      "outputs": []
    },
    {
      "cell_type": "code",
      "source": [
        "# Load model\n",
        "model_sentiment = tf.keras.models.load_model('model.h5')"
      ],
      "metadata": {
        "id": "YOyojQHB9bdq"
      },
      "execution_count": 42,
      "outputs": []
    },
    {
      "cell_type": "markdown",
      "source": [
        "# **Predict**"
      ],
      "metadata": {
        "id": "mPs17YC0G3w-"
      }
    },
    {
      "cell_type": "code",
      "source": [
        "# Predict function\n",
        "def predict(comment):\n",
        "    comment = process_special_word(comment)\n",
        "    comment = ''.join( c for c in comment if  c not in '?:!/;#,1234567890.' )\n",
        "    \n",
        "    comment = gensim.utils.simple_preprocess(comment)\n",
        "    comment = ' '.join(comment)\n",
        "    comment = ViTokenizer.tokenize(comment)\n",
        "\n",
        "    maxtrix_embedding = np.expand_dims(comment_embedding(comment), axis=0)\n",
        "    maxtrix_embedding = np.expand_dims(maxtrix_embedding, axis=3)\n",
        "    \n",
        "    result = model_sentiment.predict(maxtrix_embedding)\n",
        "\n",
        "    max_index = np.round(result)\n",
        "    result = float(result)\n",
        "    result = np.round(result,2)\n",
        "    if max_index == 0: print(\"Tiêu cực\")\n",
        "    if max_index == 1: print(\"Tích cực\")\n",
        "    \n",
        "    print(result)"
      ],
      "metadata": {
        "id": "iVxgKKQh8rhV"
      },
      "execution_count": 43,
      "outputs": []
    },
    {
      "cell_type": "code",
      "source": [
        "predict('pin yếu nhưng máy đẹp')"
      ],
      "metadata": {
        "colab": {
          "base_uri": "https://localhost:8080/"
        },
        "id": "yVzD9x6J64dX",
        "outputId": "6ab59e00-ba99-414f-8737-dbbc57c9e318"
      },
      "execution_count": 44,
      "outputs": [
        {
          "output_type": "stream",
          "name": "stdout",
          "text": [
            "Tích cực\n",
            "0.73\n"
          ]
        }
      ]
    },
    {
      "cell_type": "code",
      "source": [
        "predict('máy này chơi game không được')"
      ],
      "metadata": {
        "colab": {
          "base_uri": "https://localhost:8080/"
        },
        "id": "g9YUqQLRIYZk",
        "outputId": "7539663c-cf76-4c4a-8eef-e5b7f6501dce"
      },
      "execution_count": 45,
      "outputs": [
        {
          "output_type": "stream",
          "name": "stdout",
          "text": [
            "Tiêu cực\n",
            "0.41\n"
          ]
        }
      ]
    },
    {
      "cell_type": "code",
      "source": [
        "predict('máy bắt wifi chưa được tốt cho lắm')"
      ],
      "metadata": {
        "colab": {
          "base_uri": "https://localhost:8080/"
        },
        "id": "vgy557NL6-ox",
        "outputId": "1718c012-0d87-498b-bb00-9850d9cefde6"
      },
      "execution_count": 46,
      "outputs": [
        {
          "output_type": "stream",
          "name": "stdout",
          "text": [
            "Tiêu cực\n",
            "0.33\n"
          ]
        }
      ]
    }
  ]
}